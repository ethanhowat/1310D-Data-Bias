{
 "cells": [
  {
   "cell_type": "markdown",
   "id": "c2798bac",
   "metadata": {},
   "source": [
    "# Assignment 10: Data Bias"
   ]
  },
  {
   "cell_type": "markdown",
   "id": "bd886a79",
   "metadata": {},
   "source": [
    "## Hypothesis"
   ]
  },
  {
   "cell_type": "markdown",
   "id": "b3bc2dc4",
   "metadata": {},
   "source": [
    "I predict that Perspective API will more accurately mark the toxicity of longer comments (comments with 200+ characters) than shorter comments."
   ]
  },
  {
   "cell_type": "markdown",
   "id": "83462164",
   "metadata": {},
   "source": [
    "## Designing and Performing Tests"
   ]
  },
  {
   "cell_type": "markdown",
   "id": "06d2b293",
   "metadata": {},
   "source": [
    "### Import necessary reacoures."
   ]
  },
  {
   "cell_type": "code",
   "execution_count": 88,
   "id": "c769e94a",
   "metadata": {},
   "outputs": [],
   "source": [
    "import numpy as np\n",
    "import pandas as pd\n",
    "import matplotlib.pyplot as plt\n",
    "\n",
    "from sklearn.metrics import accuracy_score,confusion_matrix\n",
    "from sklearn.metrics import classification_report\n",
    "from sklearn.ensemble import GradientBoostingClassifier"
   ]
  },
  {
   "cell_type": "code",
   "execution_count": 89,
   "id": "ae5e6fd5",
   "metadata": {},
   "outputs": [
    {
     "name": "stdout",
     "output_type": "stream",
     "text": [
      "Requirement already satisfied: scikit-learn==1.2.1 in c:\\users\\ethan\\anaconda3\\lib\\site-packages (1.2.1)\n",
      "Requirement already satisfied: numpy>=1.17.3 in c:\\users\\ethan\\anaconda3\\lib\\site-packages (from scikit-learn==1.2.1) (1.21.5)\n",
      "Requirement already satisfied: joblib>=1.1.1 in c:\\users\\ethan\\anaconda3\\lib\\site-packages (from scikit-learn==1.2.1) (1.2.0)\n",
      "Requirement already satisfied: scipy>=1.3.2 in c:\\users\\ethan\\anaconda3\\lib\\site-packages (from scikit-learn==1.2.1) (1.9.1)\n",
      "Requirement already satisfied: threadpoolctl>=2.0.0 in c:\\users\\ethan\\anaconda3\\lib\\site-packages (from scikit-learn==1.2.1) (2.2.0)\n"
     ]
    }
   ],
   "source": [
    "!pip install scikit-learn==1.2.1"
   ]
  },
  {
   "cell_type": "markdown",
   "id": "d0b93d25",
   "metadata": {},
   "source": [
    "### Open the sample comments."
   ]
  },
  {
   "cell_type": "code",
   "execution_count": 90,
   "id": "c448fd6f",
   "metadata": {
    "scrolled": true
   },
   "outputs": [
    {
     "data": {
      "text/html": [
       "<div>\n",
       "<style scoped>\n",
       "    .dataframe tbody tr th:only-of-type {\n",
       "        vertical-align: middle;\n",
       "    }\n",
       "\n",
       "    .dataframe tbody tr th {\n",
       "        vertical-align: top;\n",
       "    }\n",
       "\n",
       "    .dataframe thead th {\n",
       "        text-align: right;\n",
       "    }\n",
       "</style>\n",
       "<table border=\"1\" class=\"dataframe\">\n",
       "  <thead>\n",
       "    <tr style=\"text-align: right;\">\n",
       "      <th></th>\n",
       "      <th>Unnamed: 0</th>\n",
       "      <th>id</th>\n",
       "      <th>comment_text</th>\n",
       "      <th>toxic</th>\n",
       "    </tr>\n",
       "  </thead>\n",
       "  <tbody>\n",
       "    <tr>\n",
       "      <th>0</th>\n",
       "      <td>5</td>\n",
       "      <td>0001ea8717f6de06</td>\n",
       "      <td>Thank you for understanding I think very highl...</td>\n",
       "      <td>no</td>\n",
       "    </tr>\n",
       "    <tr>\n",
       "      <th>1</th>\n",
       "      <td>7</td>\n",
       "      <td>000247e83dcc1211</td>\n",
       "      <td>Dear god this site is horrible</td>\n",
       "      <td>no</td>\n",
       "    </tr>\n",
       "    <tr>\n",
       "      <th>2</th>\n",
       "      <td>11</td>\n",
       "      <td>0002f87b16116a7f</td>\n",
       "      <td>Somebody will invariably try to add Religion ...</td>\n",
       "      <td>no</td>\n",
       "    </tr>\n",
       "    <tr>\n",
       "      <th>3</th>\n",
       "      <td>13</td>\n",
       "      <td>0003e1cccfd5a40a</td>\n",
       "      <td>It says it right there that it IS a type The...</td>\n",
       "      <td>no</td>\n",
       "    </tr>\n",
       "    <tr>\n",
       "      <th>4</th>\n",
       "      <td>14</td>\n",
       "      <td>00059ace3e3e9a53</td>\n",
       "      <td>Before adding a new product to the list mak...</td>\n",
       "      <td>no</td>\n",
       "    </tr>\n",
       "  </tbody>\n",
       "</table>\n",
       "</div>"
      ],
      "text/plain": [
       "   Unnamed: 0                id  \\\n",
       "0           5  0001ea8717f6de06   \n",
       "1           7  000247e83dcc1211   \n",
       "2          11  0002f87b16116a7f   \n",
       "3          13  0003e1cccfd5a40a   \n",
       "4          14  00059ace3e3e9a53   \n",
       "\n",
       "                                        comment_text toxic  \n",
       "0  Thank you for understanding I think very highl...    no  \n",
       "1                     Dear god this site is horrible    no  \n",
       "2   Somebody will invariably try to add Religion ...    no  \n",
       "3    It says it right there that it IS a type The...    no  \n",
       "4     Before adding a new product to the list mak...    no  "
      ]
     },
     "execution_count": 90,
     "metadata": {},
     "output_type": "execute_result"
    }
   ],
   "source": [
    "sample_df = pd.read_csv(r\"C:\\Users\\ethan\\Downloads\\Sample_labaled_data_1.csv\", encoding='utf8')\n",
    "sample_df.head()"
   ]
  },
  {
   "cell_type": "code",
   "execution_count": 91,
   "id": "9ff7ad16",
   "metadata": {},
   "outputs": [
    {
     "data": {
      "text/html": [
       "<div>\n",
       "<style scoped>\n",
       "    .dataframe tbody tr th:only-of-type {\n",
       "        vertical-align: middle;\n",
       "    }\n",
       "\n",
       "    .dataframe tbody tr th {\n",
       "        vertical-align: top;\n",
       "    }\n",
       "\n",
       "    .dataframe thead th {\n",
       "        text-align: right;\n",
       "    }\n",
       "</style>\n",
       "<table border=\"1\" class=\"dataframe\">\n",
       "  <thead>\n",
       "    <tr style=\"text-align: right;\">\n",
       "      <th></th>\n",
       "      <th>comment_text</th>\n",
       "    </tr>\n",
       "  </thead>\n",
       "  <tbody>\n",
       "    <tr>\n",
       "      <th>0</th>\n",
       "      <td>Thank you for understanding I think very highl...</td>\n",
       "    </tr>\n",
       "    <tr>\n",
       "      <th>1</th>\n",
       "      <td>Dear god this site is horrible</td>\n",
       "    </tr>\n",
       "    <tr>\n",
       "      <th>2</th>\n",
       "      <td>Somebody will invariably try to add Religion ...</td>\n",
       "    </tr>\n",
       "    <tr>\n",
       "      <th>3</th>\n",
       "      <td>It says it right there that it IS a type The...</td>\n",
       "    </tr>\n",
       "    <tr>\n",
       "      <th>4</th>\n",
       "      <td>Before adding a new product to the list mak...</td>\n",
       "    </tr>\n",
       "  </tbody>\n",
       "</table>\n",
       "</div>"
      ],
      "text/plain": [
       "                                        comment_text\n",
       "0  Thank you for understanding I think very highl...\n",
       "1                     Dear god this site is horrible\n",
       "2   Somebody will invariably try to add Religion ...\n",
       "3    It says it right there that it IS a type The...\n",
       "4     Before adding a new product to the list mak..."
      ]
     },
     "execution_count": 91,
     "metadata": {},
     "output_type": "execute_result"
    }
   ],
   "source": [
    "comment_df = sample_df[[\"comment_text\"]]\n",
    "comment_df.head()"
   ]
  },
  {
   "cell_type": "markdown",
   "id": "270438bb",
   "metadata": {},
   "source": [
    "### Select random comments into the testing sample."
   ]
  },
  {
   "cell_type": "code",
   "execution_count": 92,
   "id": "ba44aa09",
   "metadata": {},
   "outputs": [],
   "source": [
    "toxic_actual = []\n",
    "n = 0\n",
    "X_test = comment_df\n",
    "for count in range(0,len(X_test),4):\n",
    "    if sample_df['toxic'][count] == 'yes':\n",
    "        toxic_actual.append(1)\n",
    "    else:\n",
    "        toxic_actual.append(0)\n",
    "    \n",
    "    n+=1\n",
    "    if n == 15:\n",
    "        break"
   ]
  },
  {
   "cell_type": "markdown",
   "id": "b6732dbd",
   "metadata": {},
   "source": [
    "### Activate Perspective API."
   ]
  },
  {
   "cell_type": "code",
   "execution_count": 93,
   "id": "b19ab530",
   "metadata": {},
   "outputs": [
    {
     "name": "stdout",
     "output_type": "stream",
     "text": [
      "Requirement already satisfied: google-api-python-client in c:\\users\\ethan\\anaconda3\\lib\\site-packages (2.83.0)\n",
      "Requirement already satisfied: google-auth-httplib2 in c:\\users\\ethan\\anaconda3\\lib\\site-packages (0.1.0)\n",
      "Requirement already satisfied: google-auth-oauthlib in c:\\users\\ethan\\anaconda3\\lib\\site-packages (1.0.0)\n",
      "Requirement already satisfied: httplib2<1dev,>=0.15.0 in c:\\users\\ethan\\anaconda3\\lib\\site-packages (from google-api-python-client) (0.22.0)\n",
      "Requirement already satisfied: uritemplate<5,>=3.0.1 in c:\\users\\ethan\\anaconda3\\lib\\site-packages (from google-api-python-client) (4.1.1)\n",
      "Requirement already satisfied: google-api-core!=2.0.*,!=2.1.*,!=2.2.*,!=2.3.0,<3.0.0dev,>=1.31.5 in c:\\users\\ethan\\anaconda3\\lib\\site-packages (from google-api-python-client) (2.11.0)\n",
      "Requirement already satisfied: google-auth<3.0.0dev,>=1.19.0 in c:\\users\\ethan\\anaconda3\\lib\\site-packages (from google-api-python-client) (2.17.1)\n",
      "Requirement already satisfied: six in c:\\users\\ethan\\anaconda3\\lib\\site-packages (from google-auth-httplib2) (1.16.0)\n",
      "Requirement already satisfied: requests-oauthlib>=0.7.0 in c:\\users\\ethan\\anaconda3\\lib\\site-packages (from google-auth-oauthlib) (1.3.1)\n",
      "Requirement already satisfied: protobuf!=3.20.0,!=3.20.1,!=4.21.0,!=4.21.1,!=4.21.2,!=4.21.3,!=4.21.4,!=4.21.5,<5.0.0dev,>=3.19.5 in c:\\users\\ethan\\anaconda3\\lib\\site-packages (from google-api-core!=2.0.*,!=2.1.*,!=2.2.*,!=2.3.0,<3.0.0dev,>=1.31.5->google-api-python-client) (4.22.1)\n",
      "Requirement already satisfied: googleapis-common-protos<2.0dev,>=1.56.2 in c:\\users\\ethan\\anaconda3\\lib\\site-packages (from google-api-core!=2.0.*,!=2.1.*,!=2.2.*,!=2.3.0,<3.0.0dev,>=1.31.5->google-api-python-client) (1.59.0)\n",
      "Requirement already satisfied: requests<3.0.0dev,>=2.18.0 in c:\\users\\ethan\\anaconda3\\lib\\site-packages (from google-api-core!=2.0.*,!=2.1.*,!=2.2.*,!=2.3.0,<3.0.0dev,>=1.31.5->google-api-python-client) (2.28.1)\n",
      "Requirement already satisfied: pyasn1-modules>=0.2.1 in c:\\users\\ethan\\anaconda3\\lib\\site-packages (from google-auth<3.0.0dev,>=1.19.0->google-api-python-client) (0.2.8)\n",
      "Requirement already satisfied: rsa<5,>=3.1.4 in c:\\users\\ethan\\anaconda3\\lib\\site-packages (from google-auth<3.0.0dev,>=1.19.0->google-api-python-client) (4.9)\n",
      "Requirement already satisfied: cachetools<6.0,>=2.0.0 in c:\\users\\ethan\\anaconda3\\lib\\site-packages (from google-auth<3.0.0dev,>=1.19.0->google-api-python-client) (5.3.0)\n",
      "Requirement already satisfied: pyparsing!=3.0.0,!=3.0.1,!=3.0.2,!=3.0.3,<4,>=2.4.2 in c:\\users\\ethan\\anaconda3\\lib\\site-packages (from httplib2<1dev,>=0.15.0->google-api-python-client) (3.0.9)\n",
      "Requirement already satisfied: oauthlib>=3.0.0 in c:\\users\\ethan\\anaconda3\\lib\\site-packages (from requests-oauthlib>=0.7.0->google-auth-oauthlib) (3.2.2)\n",
      "Requirement already satisfied: pyasn1<0.5.0,>=0.4.6 in c:\\users\\ethan\\anaconda3\\lib\\site-packages (from pyasn1-modules>=0.2.1->google-auth<3.0.0dev,>=1.19.0->google-api-python-client) (0.4.8)\n",
      "Requirement already satisfied: urllib3<1.27,>=1.21.1 in c:\\users\\ethan\\anaconda3\\lib\\site-packages (from requests<3.0.0dev,>=2.18.0->google-api-core!=2.0.*,!=2.1.*,!=2.2.*,!=2.3.0,<3.0.0dev,>=1.31.5->google-api-python-client) (1.26.11)\n",
      "Requirement already satisfied: charset-normalizer<3,>=2 in c:\\users\\ethan\\anaconda3\\lib\\site-packages (from requests<3.0.0dev,>=2.18.0->google-api-core!=2.0.*,!=2.1.*,!=2.2.*,!=2.3.0,<3.0.0dev,>=1.31.5->google-api-python-client) (2.0.4)\n",
      "Requirement already satisfied: idna<4,>=2.5 in c:\\users\\ethan\\anaconda3\\lib\\site-packages (from requests<3.0.0dev,>=2.18.0->google-api-core!=2.0.*,!=2.1.*,!=2.2.*,!=2.3.0,<3.0.0dev,>=1.31.5->google-api-python-client) (3.3)\n",
      "Requirement already satisfied: certifi>=2017.4.17 in c:\\users\\ethan\\anaconda3\\lib\\site-packages (from requests<3.0.0dev,>=2.18.0->google-api-core!=2.0.*,!=2.1.*,!=2.2.*,!=2.3.0,<3.0.0dev,>=1.31.5->google-api-python-client) (2022.9.14)\n",
      "Note: you may need to restart the kernel to use updated packages.\n"
     ]
    }
   ],
   "source": [
    "pip install --upgrade google-api-python-client google-auth-httplib2 google-auth-oauthlib"
   ]
  },
  {
   "cell_type": "code",
   "execution_count": 94,
   "id": "9580d0c0",
   "metadata": {},
   "outputs": [],
   "source": [
    "from googleapiclient import discovery\n",
    "import json\n",
    "import os \n",
    "\n",
    "API_KEY = 'decoy_key'"
   ]
  },
  {
   "cell_type": "code",
   "execution_count": 95,
   "id": "5e3775a4",
   "metadata": {},
   "outputs": [],
   "source": [
    "client = discovery.build( \"commentanalyzer\",\n",
    "  \"v1alpha1\",\n",
    "  developerKey=API_KEY,\n",
    "  discoveryServiceUrl=\"https://commentanalyzer.googleapis.com/$discovery/rest?version=v1alpha1\",\n",
    "  static_discovery=False,)"
   ]
  },
  {
   "cell_type": "markdown",
   "id": "dadf3b21",
   "metadata": {},
   "source": [
    "### Find the toxicity score of the test sample comments using Perspective API."
   ]
  },
  {
   "cell_type": "code",
   "execution_count": 96,
   "id": "3f68e4d5",
   "metadata": {},
   "outputs": [
    {
     "data": {
      "text/html": [
       "<div>\n",
       "<style scoped>\n",
       "    .dataframe tbody tr th:only-of-type {\n",
       "        vertical-align: middle;\n",
       "    }\n",
       "\n",
       "    .dataframe tbody tr th {\n",
       "        vertical-align: top;\n",
       "    }\n",
       "\n",
       "    .dataframe thead th {\n",
       "        text-align: right;\n",
       "    }\n",
       "</style>\n",
       "<table border=\"1\" class=\"dataframe\">\n",
       "  <thead>\n",
       "    <tr style=\"text-align: right;\">\n",
       "      <th></th>\n",
       "      <th>Comment</th>\n",
       "      <th>Toxicity Score</th>\n",
       "    </tr>\n",
       "  </thead>\n",
       "  <tbody>\n",
       "    <tr>\n",
       "      <th>0</th>\n",
       "      <td>Thank you for understanding I think very highl...</td>\n",
       "      <td>0.016210</td>\n",
       "    </tr>\n",
       "    <tr>\n",
       "      <th>1</th>\n",
       "      <td>Before adding a new product to the list mak...</td>\n",
       "      <td>0.027089</td>\n",
       "    </tr>\n",
       "    <tr>\n",
       "      <th>2</th>\n",
       "      <td>Arabs are committing genocide in Iraq but no ...</td>\n",
       "      <td>0.718943</td>\n",
       "    </tr>\n",
       "    <tr>\n",
       "      <th>3</th>\n",
       "      <td>If Ollie or others think that one list of the ...</td>\n",
       "      <td>0.014011</td>\n",
       "    </tr>\n",
       "    <tr>\n",
       "      <th>4</th>\n",
       "      <td>balance  This page has one sentence about th...</td>\n",
       "      <td>0.200097</td>\n",
       "    </tr>\n",
       "    <tr>\n",
       "      <th>5</th>\n",
       "      <td>September 20th Truce   According to several n...</td>\n",
       "      <td>0.096118</td>\n",
       "    </tr>\n",
       "    <tr>\n",
       "      <th>6</th>\n",
       "      <td>I agree with Billfruge The author describes th...</td>\n",
       "      <td>0.017090</td>\n",
       "    </tr>\n",
       "    <tr>\n",
       "      <th>7</th>\n",
       "      <td>There are now four references including Brit...</td>\n",
       "      <td>0.199166</td>\n",
       "    </tr>\n",
       "    <tr>\n",
       "      <th>8</th>\n",
       "      <td>BrandonYusofToropov has requested mediation o...</td>\n",
       "      <td>0.050821</td>\n",
       "    </tr>\n",
       "    <tr>\n",
       "      <th>9</th>\n",
       "      <td>No he is an arrogant self serving immature idi...</td>\n",
       "      <td>0.877870</td>\n",
       "    </tr>\n",
       "    <tr>\n",
       "      <th>10</th>\n",
       "      <td>Main towns that are not so main   I know th...</td>\n",
       "      <td>0.103928</td>\n",
       "    </tr>\n",
       "    <tr>\n",
       "      <th>11</th>\n",
       "      <td>Cloud feedback   Why is cloud feedback only...</td>\n",
       "      <td>0.027442</td>\n",
       "    </tr>\n",
       "    <tr>\n",
       "      <th>12</th>\n",
       "      <td>Redirects  トレイン・トレイン トレイン トレイン トレイントレイン トレイントレ...</td>\n",
       "      <td>0.005592</td>\n",
       "    </tr>\n",
       "    <tr>\n",
       "      <th>13</th>\n",
       "      <td>Firstly still making undiffable edits and re...</td>\n",
       "      <td>0.242826</td>\n",
       "    </tr>\n",
       "    <tr>\n",
       "      <th>14</th>\n",
       "      <td>black mamba   Itis ponious snake of the word ...</td>\n",
       "      <td>0.426917</td>\n",
       "    </tr>\n",
       "  </tbody>\n",
       "</table>\n",
       "</div>"
      ],
      "text/plain": [
       "                                              Comment  Toxicity Score\n",
       "0   Thank you for understanding I think very highl...        0.016210\n",
       "1      Before adding a new product to the list mak...        0.027089\n",
       "2    Arabs are committing genocide in Iraq but no ...        0.718943\n",
       "3   If Ollie or others think that one list of the ...        0.014011\n",
       "4     balance  This page has one sentence about th...        0.200097\n",
       "5    September 20th Truce   According to several n...        0.096118\n",
       "6   I agree with Billfruge The author describes th...        0.017090\n",
       "7     There are now four references including Brit...        0.199166\n",
       "8    BrandonYusofToropov has requested mediation o...        0.050821\n",
       "9   No he is an arrogant self serving immature idi...        0.877870\n",
       "10     Main towns that are not so main   I know th...        0.103928\n",
       "11     Cloud feedback   Why is cloud feedback only...        0.027442\n",
       "12  Redirects  トレイン・トレイン トレイン トレイン トレイントレイン トレイントレ...        0.005592\n",
       "13    Firstly still making undiffable edits and re...        0.242826\n",
       "14   black mamba   Itis ponious snake of the word ...        0.426917"
      ]
     },
     "execution_count": 96,
     "metadata": {},
     "output_type": "execute_result"
    }
   ],
   "source": [
    "n = 0\n",
    "data = {'Comment': [],\n",
    "        'Toxicity Score':[]}\n",
    "\n",
    "for count in range(0,len(X_test),4):\n",
    "    data['Comment'].append(X_test[\"comment_text\"][count])\n",
    "    \n",
    "    analyze_request = {\n",
    "      'comment': { 'text': X_test[\"comment_text\"][count] },\n",
    "      'requestedAttributes': {'TOXICITY': {}}\n",
    "    }\n",
    "\n",
    "    response = client.comments().analyze(body=analyze_request).execute()\n",
    "    \n",
    "    data['Toxicity Score'].append(response[\"attributeScores\"]['TOXICITY']['summaryScore']['value'])\n",
    "    \n",
    "    n+=1\n",
    "    if n == 15:\n",
    "        break\n",
    "\n",
    "df = pd.DataFrame(data)\n",
    "df"
   ]
  },
  {
   "cell_type": "markdown",
   "id": "7484817d",
   "metadata": {},
   "source": [
    "### Export the new data as a csv."
   ]
  },
  {
   "cell_type": "code",
   "execution_count": 97,
   "id": "5ff618e5",
   "metadata": {},
   "outputs": [],
   "source": [
    "df.to_csv(\"sample_comments_test.csv\")"
   ]
  },
  {
   "cell_type": "markdown",
   "id": "60d7d4dc",
   "metadata": {},
   "source": [
    "### Use descriptpive statistics and graphs to help find the threshold for the model."
   ]
  },
  {
   "cell_type": "code",
   "execution_count": 98,
   "id": "e19ad0f4",
   "metadata": {},
   "outputs": [
    {
     "data": {
      "text/plain": [
       "count    15.000000\n",
       "mean      0.201608\n",
       "std       0.270406\n",
       "min       0.005592\n",
       "25%       0.022089\n",
       "50%       0.096118\n",
       "75%       0.221461\n",
       "max       0.877870\n",
       "Name: Toxicity Score, dtype: float64"
      ]
     },
     "execution_count": 98,
     "metadata": {},
     "output_type": "execute_result"
    }
   ],
   "source": [
    "api_df = pd.read_csv(\"sample_comments_test.csv\")\n",
    "score = api_df[\"Toxicity Score\"]\n",
    "score.describe()"
   ]
  },
  {
   "cell_type": "code",
   "execution_count": 99,
   "id": "a0c2ee91",
   "metadata": {},
   "outputs": [
    {
     "data": {
      "text/plain": [
       "Text(0, 0.5, 'Frequency')"
      ]
     },
     "execution_count": 99,
     "metadata": {},
     "output_type": "execute_result"
    },
    {
     "data": {
      "image/png": "[encoded data removed]",
      "text/plain": [
       "<Figure size 640x480 with 1 Axes>"
      ]
     },
     "metadata": {},
     "output_type": "display_data"
    }
   ],
   "source": [
    "import pylab as pl\n",
    "score.hist()\n",
    "pl.suptitle(\"Perspective API Toxicity Scores (n=100)\")\n",
    "pl.xlabel(\"Toxicity Scores\")\n",
    "pl.ylabel(\"Frequency\")"
   ]
  },
  {
   "cell_type": "markdown",
   "id": "a6095075",
   "metadata": {},
   "source": [
    "### Define and determine the number of long and short comments."
   ]
  },
  {
   "cell_type": "code",
   "execution_count": 100,
   "id": "9fde2c39",
   "metadata": {},
   "outputs": [
    {
     "name": "stdout",
     "output_type": "stream",
     "text": [
      "Number of short comments: 5\n",
      "Number of long comments: 10\n"
     ]
    }
   ],
   "source": [
    "comment_column = api_df[\"Comment\"]\n",
    "\n",
    "shortComment_indices = []\n",
    "longComment_indices = []\n",
    "\n",
    "longComments = []\n",
    "longScores = []\n",
    "shortComments = []\n",
    "shortScores = []\n",
    "longActual = []\n",
    "shortActual = []\n",
    "\n",
    "for i in range(len(api_df[\"Comment\"])):\n",
    "    if len(comment_column[i]) >= 200:\n",
    "        longComment_indices.append(i)\n",
    "        longComments.append(api_df[\"Comment\"][i])\n",
    "        longScores.append(api_df[\"Toxicity Score\"][i])\n",
    "        longActual.append(toxic_actual[i])\n",
    "    else:\n",
    "        shortComment_indices.append(i)\n",
    "        shortComments.append(api_df[\"Comment\"][i])\n",
    "        shortScores.append(api_df[\"Toxicity Score\"][i])\n",
    "        shortActual.append(toxic_actual[i])\n",
    "        \n",
    "testLong_df = pd.DataFrame({'Long Comment':longComments,\n",
    "                        'Predicted Score (from API)':longScores,\n",
    "                        'Actual Score':longActual\n",
    "})\n",
    "\n",
    "testShort_df = pd.DataFrame({'Short Comment': shortComments,\n",
    "                        'Predicted Score (from API)':shortScores,\n",
    "                        'Actual Score':shortActual\n",
    "})\n",
    "\n",
    "print(\"Number of short comments:\",len(shortComment_indices))\n",
    "print(\"Number of long comments:\",len(longComment_indices))"
   ]
  },
  {
   "cell_type": "code",
   "execution_count": 101,
   "id": "838adb2b",
   "metadata": {},
   "outputs": [
    {
     "data": {
      "text/html": [
       "<div>\n",
       "<style scoped>\n",
       "    .dataframe tbody tr th:only-of-type {\n",
       "        vertical-align: middle;\n",
       "    }\n",
       "\n",
       "    .dataframe tbody tr th {\n",
       "        vertical-align: top;\n",
       "    }\n",
       "\n",
       "    .dataframe thead th {\n",
       "        text-align: right;\n",
       "    }\n",
       "</style>\n",
       "<table border=\"1\" class=\"dataframe\">\n",
       "  <thead>\n",
       "    <tr style=\"text-align: right;\">\n",
       "      <th></th>\n",
       "      <th>Short Comment</th>\n",
       "      <th>Predicted Score (from API)</th>\n",
       "      <th>Actual Score</th>\n",
       "    </tr>\n",
       "  </thead>\n",
       "  <tbody>\n",
       "    <tr>\n",
       "      <th>0</th>\n",
       "      <td>Thank you for understanding I think very highl...</td>\n",
       "      <td>0.016210</td>\n",
       "      <td>0</td>\n",
       "    </tr>\n",
       "    <tr>\n",
       "      <th>1</th>\n",
       "      <td>Arabs are committing genocide in Iraq but no ...</td>\n",
       "      <td>0.718943</td>\n",
       "      <td>1</td>\n",
       "    </tr>\n",
       "    <tr>\n",
       "      <th>2</th>\n",
       "      <td>September 20th Truce   According to several n...</td>\n",
       "      <td>0.096118</td>\n",
       "      <td>0</td>\n",
       "    </tr>\n",
       "    <tr>\n",
       "      <th>3</th>\n",
       "      <td>No he is an arrogant self serving immature idi...</td>\n",
       "      <td>0.877870</td>\n",
       "      <td>1</td>\n",
       "    </tr>\n",
       "    <tr>\n",
       "      <th>4</th>\n",
       "      <td>black mamba   Itis ponious snake of the word ...</td>\n",
       "      <td>0.426917</td>\n",
       "      <td>0</td>\n",
       "    </tr>\n",
       "  </tbody>\n",
       "</table>\n",
       "</div>"
      ],
      "text/plain": [
       "                                       Short Comment  \\\n",
       "0  Thank you for understanding I think very highl...   \n",
       "1   Arabs are committing genocide in Iraq but no ...   \n",
       "2   September 20th Truce   According to several n...   \n",
       "3  No he is an arrogant self serving immature idi...   \n",
       "4   black mamba   Itis ponious snake of the word ...   \n",
       "\n",
       "   Predicted Score (from API)  Actual Score  \n",
       "0                    0.016210             0  \n",
       "1                    0.718943             1  \n",
       "2                    0.096118             0  \n",
       "3                    0.877870             1  \n",
       "4                    0.426917             0  "
      ]
     },
     "execution_count": 101,
     "metadata": {},
     "output_type": "execute_result"
    }
   ],
   "source": [
    "testShort_df"
   ]
  },
  {
   "cell_type": "code",
   "execution_count": 102,
   "id": "3c84da85",
   "metadata": {
    "scrolled": true
   },
   "outputs": [
    {
     "data": {
      "text/html": [
       "<div>\n",
       "<style scoped>\n",
       "    .dataframe tbody tr th:only-of-type {\n",
       "        vertical-align: middle;\n",
       "    }\n",
       "\n",
       "    .dataframe tbody tr th {\n",
       "        vertical-align: top;\n",
       "    }\n",
       "\n",
       "    .dataframe thead th {\n",
       "        text-align: right;\n",
       "    }\n",
       "</style>\n",
       "<table border=\"1\" class=\"dataframe\">\n",
       "  <thead>\n",
       "    <tr style=\"text-align: right;\">\n",
       "      <th></th>\n",
       "      <th>Long Comment</th>\n",
       "      <th>Predicted Score (from API)</th>\n",
       "      <th>Actual Score</th>\n",
       "    </tr>\n",
       "  </thead>\n",
       "  <tbody>\n",
       "    <tr>\n",
       "      <th>0</th>\n",
       "      <td>Before adding a new product to the list mak...</td>\n",
       "      <td>0.027089</td>\n",
       "      <td>0</td>\n",
       "    </tr>\n",
       "    <tr>\n",
       "      <th>1</th>\n",
       "      <td>If Ollie or others think that one list of the ...</td>\n",
       "      <td>0.014011</td>\n",
       "      <td>0</td>\n",
       "    </tr>\n",
       "    <tr>\n",
       "      <th>2</th>\n",
       "      <td>balance  This page has one sentence about th...</td>\n",
       "      <td>0.200097</td>\n",
       "      <td>0</td>\n",
       "    </tr>\n",
       "    <tr>\n",
       "      <th>3</th>\n",
       "      <td>I agree with Billfruge The author describes th...</td>\n",
       "      <td>0.017090</td>\n",
       "      <td>0</td>\n",
       "    </tr>\n",
       "    <tr>\n",
       "      <th>4</th>\n",
       "      <td>There are now four references including Brit...</td>\n",
       "      <td>0.199166</td>\n",
       "      <td>0</td>\n",
       "    </tr>\n",
       "    <tr>\n",
       "      <th>5</th>\n",
       "      <td>BrandonYusofToropov has requested mediation o...</td>\n",
       "      <td>0.050821</td>\n",
       "      <td>0</td>\n",
       "    </tr>\n",
       "    <tr>\n",
       "      <th>6</th>\n",
       "      <td>Main towns that are not so main   I know th...</td>\n",
       "      <td>0.103928</td>\n",
       "      <td>0</td>\n",
       "    </tr>\n",
       "    <tr>\n",
       "      <th>7</th>\n",
       "      <td>Cloud feedback   Why is cloud feedback only...</td>\n",
       "      <td>0.027442</td>\n",
       "      <td>0</td>\n",
       "    </tr>\n",
       "    <tr>\n",
       "      <th>8</th>\n",
       "      <td>Redirects  トレイン・トレイン トレイン トレイン トレイントレイン トレイントレ...</td>\n",
       "      <td>0.005592</td>\n",
       "      <td>0</td>\n",
       "    </tr>\n",
       "    <tr>\n",
       "      <th>9</th>\n",
       "      <td>Firstly still making undiffable edits and re...</td>\n",
       "      <td>0.242826</td>\n",
       "      <td>0</td>\n",
       "    </tr>\n",
       "  </tbody>\n",
       "</table>\n",
       "</div>"
      ],
      "text/plain": [
       "                                        Long Comment  \\\n",
       "0     Before adding a new product to the list mak...   \n",
       "1  If Ollie or others think that one list of the ...   \n",
       "2    balance  This page has one sentence about th...   \n",
       "3  I agree with Billfruge The author describes th...   \n",
       "4    There are now four references including Brit...   \n",
       "5   BrandonYusofToropov has requested mediation o...   \n",
       "6     Main towns that are not so main   I know th...   \n",
       "7     Cloud feedback   Why is cloud feedback only...   \n",
       "8  Redirects  トレイン・トレイン トレイン トレイン トレイントレイン トレイントレ...   \n",
       "9    Firstly still making undiffable edits and re...   \n",
       "\n",
       "   Predicted Score (from API)  Actual Score  \n",
       "0                    0.027089             0  \n",
       "1                    0.014011             0  \n",
       "2                    0.200097             0  \n",
       "3                    0.017090             0  \n",
       "4                    0.199166             0  \n",
       "5                    0.050821             0  \n",
       "6                    0.103928             0  \n",
       "7                    0.027442             0  \n",
       "8                    0.005592             0  \n",
       "9                    0.242826             0  "
      ]
     },
     "execution_count": 102,
     "metadata": {},
     "output_type": "execute_result"
    }
   ],
   "source": [
    "testLong_df"
   ]
  },
  {
   "cell_type": "markdown",
   "id": "f10653a3",
   "metadata": {},
   "source": [
    "### Find the overall accury of Perspective API with a threshold toxicity score of 0.25."
   ]
  },
  {
   "cell_type": "code",
   "execution_count": 103,
   "id": "1ac5ab23",
   "metadata": {},
   "outputs": [
    {
     "name": "stdout",
     "output_type": "stream",
     "text": [
      "Accuracy of the classifier = 0.9333333333333333\n"
     ]
    }
   ],
   "source": [
    "toxic_map_predicted = []\n",
    "for index in range(len(api_df[\"Toxicity Score\"])):\n",
    "    if api_df[\"Toxicity Score\"][index] <=0.25:\n",
    "        toxic_map_predicted.append(0)\n",
    "    else:\n",
    "        toxic_map_predicted.append(1)\n",
    "\n",
    "accuracy = accuracy_score(toxic_map_predicted,toxic_actual)\n",
    "print (f\"Accuracy of the classifier = {accuracy}\")\n",
    "\n",
    "toxic_actual_longComment = [toxic_actual[i] for i in longComment_indices]\n",
    "toxic_predicted_longComment = [toxic_map_predicted[i] for i in longComment_indices]\n",
    "\n",
    "toxic_actual_shortComment = [toxic_actual[i] for i in shortComment_indices]\n",
    "toxic_predicted_shortComment = [toxic_map_predicted[i] for i in shortComment_indices]"
   ]
  },
  {
   "cell_type": "markdown",
   "id": "5a054183",
   "metadata": {},
   "source": [
    "### Find the accuracy of Perspective API in relation to comment length. "
   ]
  },
  {
   "cell_type": "code",
   "execution_count": 104,
   "id": "5749b98d",
   "metadata": {},
   "outputs": [
    {
     "name": "stdout",
     "output_type": "stream",
     "text": [
      "Class 1 (i.e., predicted toxicity score > 0.25) accuracy for Long Comments = 0.0\n",
      "Class 0 (i.e., predicted toxicity score <= 0.25) accuracy for Long Comments = 0.999000999000999\n",
      "Class 1 (i.e., predicted toxicity score > 0.25) accuracy for Short Comments = 0.9950248756218907\n",
      "Class 0 (i.e., predicted toxicity score <= 0.25) accuracy for Short Comments = 0.6644518272425249\n"
     ]
    }
   ],
   "source": [
    "def class_wise_acc(toxic_actual, toxic_predicted):\n",
    "    total_p = .01\n",
    "    total_n = .01\n",
    "    TP=0\n",
    "    TN=0\n",
    "    \n",
    "    for i in range(len(toxic_predicted)):\n",
    "        if toxic_actual[i]==1:\n",
    "            total_p = total_p+1\n",
    "            if toxic_actual[i]==toxic_predicted[i]:\n",
    "               TP=TP+1\n",
    "        if toxic_actual[i]==0:\n",
    "            total_n=total_n+1\n",
    "            if toxic_actual[i]==toxic_predicted[i]:\n",
    "               TN=TN+1\n",
    "    return(TP/total_p, TN/total_n)\n",
    "\n",
    "class_1_acc_longComment, class_0_acc_longComment = class_wise_acc(toxic_actual_longComment, toxic_predicted_longComment)\n",
    "class_1_acc_shortComment, class_0_acc_shortComment = class_wise_acc(toxic_actual_shortComment, toxic_predicted_shortComment)\n",
    "\n",
    "print (f\"Class 1 (i.e., predicted toxicity score > 0.25) accuracy for Long Comments = {class_1_acc_longComment}\")\n",
    "print (f\"Class 0 (i.e., predicted toxicity score <= 0.25) accuracy for Long Comments = {class_0_acc_longComment}\")\n",
    "print (f\"Class 1 (i.e., predicted toxicity score > 0.25) accuracy for Short Comments = {class_1_acc_shortComment}\")\n",
    "print (f\"Class 0 (i.e., predicted toxicity score <= 0.25) accuracy for Short Comments = {class_0_acc_shortComment}\")"
   ]
  },
  {
   "cell_type": "markdown",
   "id": "2a955feb",
   "metadata": {},
   "source": [
    "### Results"
   ]
  },
  {
   "cell_type": "markdown",
   "id": "b2bc9570",
   "metadata": {},
   "source": [
    "My hypothesis was definitely not correct according to the results of my testing. Perspective API showed very high accuracy for long, non-toxic comments and short, toxic comments. On the contrary, it had moderate accuracy for short, non-toxic comments and zero percent accuracy for long, toxic comments."
   ]
  },
  {
   "cell_type": "markdown",
   "id": "7855dc3d",
   "metadata": {},
   "source": [
    "I think a large reason these results is actually do to how small the sample size that I tested was. I actually choose to include only 15 comments in my testing sample because I was having a lot of techinical difficulties when using a larger sample size, but in hind sight I think hurt the accuracy of my study."
   ]
  },
  {
   "cell_type": "markdown",
   "id": "df16733f",
   "metadata": {},
   "source": [
    "Assuming my results are accurate regardless of my small sample size, I have a few guesses as to why the accuracy in relation to comment length might be like this."
   ]
  },
  {
   "cell_type": "markdown",
   "id": "97bab891",
   "metadata": {},
   "source": [
    "For the high accuracy for long, non-toxic comments, I think that having a lot of words to provide context for words or phrases that might be flagged as toxic helped the API avoid flagging entire comments as toxic for including one toxic word."
   ]
  },
  {
   "cell_type": "markdown",
   "id": "1d79e017",
   "metadata": {},
   "source": [
    "I think the reason for the high accuracy in identifying short, toxic comments is because the API identifies single toxic words or phrases that make up a majority of the comment, without other clutter or conext."
   ]
  },
  {
   "cell_type": "markdown",
   "id": "51fdabd0",
   "metadata": {},
   "source": [
    "I think the moderate accuracy for short, non-toxic comments is due to a lack of other words for context, or simply as filler, to mitigate the impact of one toxic word or phrase on the toxicity rating."
   ]
  },
  {
   "cell_type": "markdown",
   "id": "75e55163",
   "metadata": {},
   "source": [
    "Finally, I am pretty confident that the 0% accuracy for long, toxic comments is due to the small sample size. I curious as to how the accuracy of the API would change for these types of comments with a larger sample size."
   ]
  }
 ],
 "metadata": {
  "kernelspec": {
   "display_name": "Python 3 (ipykernel)",
   "language": "python",
   "name": "python3"
  },
  "language_info": {
   "codemirror_mode": {
    "name": "ipython",
    "version": 3
   },
   "file_extension": ".py",
   "mimetype": "text/x-python",
   "name": "python",
   "nbconvert_exporter": "python",
   "pygments_lexer": "ipython3",
   "version": "3.9.13"
  }
 },
 "nbformat": 4,
 "nbformat_minor": 5
}
